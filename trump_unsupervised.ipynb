{
 "cells": [
  {
   "cell_type": "markdown",
   "metadata": {},
   "source": [
    "# Unsupervised Example\n",
    "Example code to load the data and write a test submission, as well as evaluate a simple output using AUC. Output should be a file with one number per line, one for each corresponding test line, each denoting the probability of \"FAKE\"."
   ]
  },
  {
   "cell_type": "code",
   "execution_count": 1,
   "metadata": {
    "collapsed": true
   },
   "outputs": [],
   "source": [
    "import csv\n",
    "import numpy as np"
   ]
  },
  {
   "cell_type": "code",
   "execution_count": 2,
   "metadata": {},
   "outputs": [
    {
     "name": "stdout",
     "output_type": "stream",
     "text": [
      "('train size', 12481)\n",
      "('test size', 4168)\n"
     ]
    }
   ],
   "source": [
    "with open('data/train1.csv', 'r') as f:\n",
    "    reader = csv.reader(f)\n",
    "    tweets_train = list(reader)\n",
    "print ('train size', len(tweets_train))\n",
    "\n",
    "with open('data/test1.csv', 'r') as f:\n",
    "    reader = csv.reader(f)\n",
    "    tweets_test1 = list(reader)\n",
    "print('test size', len(tweets_test1))"
   ]
  },
  {
   "cell_type": "code",
   "execution_count": 3,
   "metadata": {},
   "outputs": [],
   "source": [
    "# Parse data\n",
    "X_train = [t[0] for t in tweets_train]\n",
    "X_test = [t[0] for t in tweets_test1]"
   ]
  },
  {
   "cell_type": "code",
   "execution_count": 4,
   "metadata": {},
   "outputs": [
    {
     "data": {
      "text/plain": [
       "['\"@Snapchat! \"\\n',\n",
       " '\"Have you been watching how Saudi Arabia has been taunting our VERY dumb political leaders to protect them from ISIS. Why aren\\'t they paying?\"\\n',\n",
       " '\"Back by popular demand, the record 13th season of \\xe2\\x80\\x98All Star\\xe2\\x80\\x99 @CelebApprentice features the return of @bretmichaels.  Our fans will be happy.\"\\n',\n",
       " '\"Terrible attacks in NY, NJ and MN this weekend. Thinking of victims, their families and all Americans! We need to be strong!\"\\n',\n",
       " '\"Plan a perfect weekend for the holidays in NYC\\'s hottest neighborhood using @TrumpSoHo\\xe2\\x80\\x99s 20% offer\"\\n']"
      ]
     },
     "execution_count": 4,
     "metadata": {},
     "output_type": "execute_result"
    }
   ],
   "source": [
    "# Some example tweets\n",
    "[tweet for tweet in X_train][:5]"
   ]
  },
  {
   "cell_type": "markdown",
   "metadata": {},
   "source": [
    "## Example: predict fake using some simple heuristics"
   ]
  },
  {
   "cell_type": "code",
   "execution_count": 5,
   "metadata": {},
   "outputs": [],
   "source": [
    "def get_y_score(X):\n",
    "    y_score = []\n",
    "    for tweet in X:\n",
    "        if np.mod(np.char.count(tweet, \"\\\"\"), 2) != 0 or np.mod(np.char.count(tweet, \"'\"), 2) != 0:\n",
    "            # Check for uneven \" and '\n",
    "            y_score += [1.]\n",
    "        else:\n",
    "            y_score += [0.]\n",
    "    return y_score\n",
    "\n",
    "# Example writing output\n",
    "y_score = get_y_score(X_test)\n",
    "with open(\"output1.csv\", \"w\") as f:\n",
    "    for y in y_score:\n",
    "        f.write('%f\\n' % y)"
   ]
  },
  {
   "cell_type": "code",
   "execution_count": null,
   "metadata": {
    "collapsed": true
   },
   "outputs": [],
   "source": []
  }
 ],
 "metadata": {
  "kernelspec": {
   "display_name": "Python [default]",
   "language": "python",
   "name": "python2"
  },
  "language_info": {
   "codemirror_mode": {
    "name": "ipython",
    "version": 2
   },
   "file_extension": ".py",
   "mimetype": "text/x-python",
   "name": "python",
   "nbconvert_exporter": "python",
   "pygments_lexer": "ipython2",
   "version": "2.7.13"
  }
 },
 "nbformat": 4,
 "nbformat_minor": 2
}
